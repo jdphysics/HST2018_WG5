{
 "cells": [
  {
   "cell_type": "code",
   "execution_count": 1,
   "metadata": {},
   "outputs": [],
   "source": [
    "import pandas as pd \n",
    "#pandas is for data structures and data analysis tools\n",
    "import numpy as np\n",
    "#numpy is for scientific computing\n",
    "import matplotlib.pyplot as plt\n",
    "#matplotlib is for plotting"
   ]
  },
  {
   "cell_type": "code",
   "execution_count": 2,
   "metadata": {},
   "outputs": [
    {
     "name": "stdout",
     "output_type": "stream",
     "text": [
      "889\n",
      "691\n"
     ]
    }
   ],
   "source": [
    "# we use read_csv function from pandas to read the data into a \"data frame\"\n",
    "data1 = pd.read_csv('Data from phyphox 39 1 to 4.csv', sep=';', encoding='utf-8')\n",
    "data2 = pd.read_csv('Data from phyphox 39 4 to neg1.csv', sep=';', encoding='utf-8')\n",
    "col=len(data1)\n",
    "print(len(data1))\n",
    "print(len(data2))"
   ]
  },
  {
   "cell_type": "code",
   "execution_count": 3,
   "metadata": {},
   "outputs": [
    {
     "name": "stdout",
     "output_type": "stream",
     "text": [
      "10.609084267754184\n"
     ]
    },
    {
     "data": {
      "text/plain": [
       "<function matplotlib.pyplot.show(*args, **kw)>"
      ]
     },
     "execution_count": 3,
     "metadata": {},
     "output_type": "execute_result"
    },
    {
     "data": {
      "image/png": "[encoded data removed]",
      "text/plain": [
       "<Figure size 432x288 with 1 Axes>"
      ]
     },
     "metadata": {},
     "output_type": "display_data"
    }
   ],
   "source": [
    "t1=data1[\"Time (s)\"]\n",
    "t1e=data1.loc[888,\"Time (s)\"]\n",
    "t2=t1e+data2[\"Time (s)\"]\n",
    "p1=data1[\"Pressure (hPa)\"]\n",
    "p2=data2[\"Pressure (hPa)\"]\n",
    "p01=data1.loc[888,\"Pressure (hPa)\"]\n",
    "pmax=data1.loc[0,\"Pressure (hPa)\"]\n",
    "h=(pmax-p01)/1.2/9.81*100\n",
    "print(h)\n",
    "h1=h-(p1-p01)/1.2/9.81*100\n",
    "h2=h-(p2-p01)/1.2/9.81*100\n",
    "plt.plot(t1,h1)\n",
    "plt.plot(t2,h2)\n",
    "plt.axhline(y=0, color='black')\n",
    "plt.show"
   ]
  },
  {
   "cell_type": "code",
   "execution_count": null,
   "metadata": {},
   "outputs": [],
   "source": []
  },
  {
   "cell_type": "code",
   "execution_count": null,
   "metadata": {},
   "outputs": [],
   "source": []
  }
 ],
 "metadata": {
  "kernelspec": {
   "display_name": "Python 3",
   "language": "python",
   "name": "python3"
  },
  "language_info": {
   "codemirror_mode": {
    "name": "ipython",
    "version": 3
   },
   "file_extension": ".py",
   "mimetype": "text/x-python",
   "name": "python",
   "nbconvert_exporter": "python",
   "pygments_lexer": "ipython3",
   "version": "3.6.5"
  }
 },
 "nbformat": 4,
 "nbformat_minor": 2
}
